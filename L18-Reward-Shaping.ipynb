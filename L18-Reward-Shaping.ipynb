{
 "cells": [
  {
   "cell_type": "code",
   "execution_count": 1,
   "id": "26975e11",
   "metadata": {},
   "outputs": [],
   "source": [
    "from potential_function import PotentialFunction\n",
    "from gridworld import GridWorld\n",
    "\n",
    "\n",
    "class GridWorldPotentialFunction(PotentialFunction):\n",
    "    def __init__(self, mdp):\n",
    "        self.mdp = mdp\n",
    "\n",
    "    def get_potential(self, state):\n",
    "        if state != GridWorld.TERMINAL:\n",
    "            goal = (self.mdp.width, self.mdp.height)\n",
    "            x = 0\n",
    "            y = 1\n",
    "            return 0.1 * (\n",
    "                1 - ((goal[x] - state[x] + goal[y] - state[y]) / (goal[x] + goal[y]))\n",
    "            )\n",
    "        else:\n",
    "            return 0.0"
   ]
  },
  {
   "cell_type": "code",
   "execution_count": 2,
   "id": "8c3dd813",
   "metadata": {},
   "outputs": [],
   "source": [
    "from model_free_reinforcement_learner import ModelFreeReinforcementLearner\n",
    "from qlearning import QLearning\n",
    "\n",
    "\n",
    "class RewardShapedQLearning(QLearning):\n",
    "    def __init__(self, mdp, bandit, potential, qfunction, alpha=0.1):\n",
    "        super().__init__(mdp, bandit, qfunction=qfunction, alpha=alpha)\n",
    "        self.potential = potential\n",
    "\n",
    "    def get_delta(self, reward, q_value, state, next_state, next_action):\n",
    "        next_state_value = self.state_value(next_state, next_action)\n",
    "        state_potential = self.potential.get_potential(state)\n",
    "        next_state_potential = self.potential.get_potential(next_state)\n",
    "        potential = self.mdp.discount_factor * next_state_potential - state_potential\n",
    "        delta = reward + potential + self.mdp.discount_factor * next_state_value - q_value\n",
    "        return delta"
   ]
  },
  {
   "cell_type": "code",
   "execution_count": 3,
   "id": "d637de53",
   "metadata": {},
   "outputs": [
    {
     "ename": "ModuleNotFoundError",
     "evalue": "No module named 'multi_armed_bandit'",
     "output_type": "error",
     "traceback": [
      "\u001b[0;31m---------------------------------------------------------------------------\u001b[0m",
      "\u001b[0;31mModuleNotFoundError\u001b[0m                       Traceback (most recent call last)",
      "Cell \u001b[0;32mIn[3], line 5\u001b[0m\n\u001b[1;32m      3\u001b[0m \u001b[38;5;28;01mfrom\u001b[39;00m \u001b[38;5;21;01mreward_shaped_qlearning\u001b[39;00m \u001b[38;5;28;01mimport\u001b[39;00m RewardShapedQLearning\n\u001b[1;32m      4\u001b[0m \u001b[38;5;28;01mfrom\u001b[39;00m \u001b[38;5;21;01mgridworld_potential_function\u001b[39;00m \u001b[38;5;28;01mimport\u001b[39;00m GridWorldPotentialFunction\n\u001b[0;32m----> 5\u001b[0m \u001b[38;5;28;01mfrom\u001b[39;00m \u001b[38;5;21;01mmulti_armed_bandit\u001b[39;00m\u001b[38;5;21;01m.\u001b[39;00m\u001b[38;5;21;01mepsilon_greedy\u001b[39;00m \u001b[38;5;28;01mimport\u001b[39;00m EpsilonGreedy\n\u001b[1;32m      8\u001b[0m mdp \u001b[38;5;241m=\u001b[39m GridWorld(width \u001b[38;5;241m=\u001b[39m \u001b[38;5;241m15\u001b[39m, height \u001b[38;5;241m=\u001b[39m \u001b[38;5;241m12\u001b[39m, goals \u001b[38;5;241m=\u001b[39m [((\u001b[38;5;241m14\u001b[39m,\u001b[38;5;241m11\u001b[39m), \u001b[38;5;241m1\u001b[39m), ((\u001b[38;5;241m13\u001b[39m,\u001b[38;5;241m11\u001b[39m), \u001b[38;5;241m-\u001b[39m\u001b[38;5;241m1\u001b[39m)])\n\u001b[1;32m      9\u001b[0m qfunction \u001b[38;5;241m=\u001b[39m QTable()\n",
      "\u001b[0;31mModuleNotFoundError\u001b[0m: No module named 'multi_armed_bandit'"
     ]
    }
   ],
   "source": [
    "from qtable import QTable\n",
    "from qlearning import QLearning\n",
    "from reward_shaped_qlearning import RewardShapedQLearning\n",
    "from gridworld_potential_function import GridWorldPotentialFunction\n",
    "from multi_armed_bandit.epsilon_greedy import EpsilonGreedy\n",
    "\n",
    "\n",
    "mdp = GridWorld(width = 15, height = 12, goals = [((14,11), 1), ((13,11), -1)])\n",
    "qfunction = QTable()\n",
    "potential = GridWorldPotentialFunction(mdp)\n",
    "RewardShapedQLearning(mdp, EpsilonGreedy(), potential, qfunction).execute()\n",
    "policy = qfunction.extract_policy(mdp)\n",
    "mdp.visualise_q_function(qfunction)\n",
    "mdp.visualise_policy(policy)\n",
    "reward_shaped_rewards = mdp.get_rewards()"
   ]
  },
  {
   "cell_type": "code",
   "execution_count": 4,
   "id": "19f46194",
   "metadata": {},
   "outputs": [
    {
     "ename": "NameError",
     "evalue": "name 'EpsilonGreedy' is not defined",
     "output_type": "error",
     "traceback": [
      "\u001b[0;31m---------------------------------------------------------------------------\u001b[0m",
      "\u001b[0;31mNameError\u001b[0m                                 Traceback (most recent call last)",
      "Cell \u001b[0;32mIn[4], line 3\u001b[0m\n\u001b[1;32m      1\u001b[0m mdp \u001b[38;5;241m=\u001b[39m GridWorld(width \u001b[38;5;241m=\u001b[39m \u001b[38;5;241m15\u001b[39m, height \u001b[38;5;241m=\u001b[39m \u001b[38;5;241m12\u001b[39m, goals \u001b[38;5;241m=\u001b[39m [((\u001b[38;5;241m14\u001b[39m,\u001b[38;5;241m11\u001b[39m), \u001b[38;5;241m1\u001b[39m), ((\u001b[38;5;241m13\u001b[39m,\u001b[38;5;241m11\u001b[39m), \u001b[38;5;241m-\u001b[39m\u001b[38;5;241m1\u001b[39m)])\n\u001b[1;32m      2\u001b[0m qfunction \u001b[38;5;241m=\u001b[39m QTable()\n\u001b[0;32m----> 3\u001b[0m QLearning(mdp, EpsilonGreedy(), qfunction)\u001b[38;5;241m.\u001b[39mexecute()\n\u001b[1;32m      4\u001b[0m policy \u001b[38;5;241m=\u001b[39m qfunction\u001b[38;5;241m.\u001b[39mextract_policy(mdp)\n\u001b[1;32m      5\u001b[0m mdp\u001b[38;5;241m.\u001b[39mvisualise_q_function(qfunction)\n",
      "\u001b[0;31mNameError\u001b[0m: name 'EpsilonGreedy' is not defined"
     ]
    }
   ],
   "source": [
    "mdp = GridWorld(width = 15, height = 12, goals = [((14,11), 1), ((13,11), -1)])\n",
    "qfunction = QTable()\n",
    "QLearning(mdp, EpsilonGreedy(), qfunction).execute()\n",
    "policy = qfunction.extract_policy(mdp)\n",
    "mdp.visualise_q_function(qfunction)\n",
    "mdp.visualise_policy(policy)\n",
    "q_learning_rewards = mdp.get_rewards()"
   ]
  },
  {
   "cell_type": "code",
   "execution_count": 5,
   "id": "9c542d1d",
   "metadata": {},
   "outputs": [
    {
     "ename": "ModuleNotFoundError",
     "evalue": "No module named 'tests.plot'",
     "output_type": "error",
     "traceback": [
      "\u001b[0;31m---------------------------------------------------------------------------\u001b[0m",
      "\u001b[0;31mModuleNotFoundError\u001b[0m                       Traceback (most recent call last)",
      "Cell \u001b[0;32mIn[5], line 1\u001b[0m\n\u001b[0;32m----> 1\u001b[0m \u001b[38;5;28;01mfrom\u001b[39;00m \u001b[38;5;21;01mtests\u001b[39;00m\u001b[38;5;21;01m.\u001b[39;00m\u001b[38;5;21;01mplot\u001b[39;00m \u001b[38;5;28;01mimport\u001b[39;00m Plot\n\u001b[1;32m      3\u001b[0m Plot\u001b[38;5;241m.\u001b[39mplot_episode_length(\n\u001b[1;32m      4\u001b[0m     [\u001b[38;5;124m\"\u001b[39m\u001b[38;5;124mTabular Q-learning\u001b[39m\u001b[38;5;124m\"\u001b[39m, \u001b[38;5;124m\"\u001b[39m\u001b[38;5;124mReward shaping\u001b[39m\u001b[38;5;124m\"\u001b[39m],\n\u001b[1;32m      5\u001b[0m     [q_learning_rewards, reward_shaped_rewards],\n\u001b[1;32m      6\u001b[0m )\n",
      "\u001b[0;31mModuleNotFoundError\u001b[0m: No module named 'tests.plot'"
     ]
    }
   ],
   "source": [
    "from tests.plot import Plot\n",
    "\n",
    "Plot.plot_episode_length(\n",
    "    [\"Tabular Q-learning\", \"Reward shaping\"],\n",
    "    [q_learning_rewards, reward_shaped_rewards],\n",
    ")"
   ]
  },
  {
   "cell_type": "code",
   "execution_count": null,
   "id": "bed5988b",
   "metadata": {},
   "outputs": [],
   "source": []
  }
 ],
 "metadata": {
  "kernelspec": {
   "display_name": "Python 3 (ipykernel)",
   "language": "python",
   "name": "python3"
  },
  "language_info": {
   "codemirror_mode": {
    "name": "ipython",
    "version": 3
   },
   "file_extension": ".py",
   "mimetype": "text/x-python",
   "name": "python",
   "nbconvert_exporter": "python",
   "pygments_lexer": "ipython3",
   "version": "3.11.3"
  }
 },
 "nbformat": 4,
 "nbformat_minor": 5
}
