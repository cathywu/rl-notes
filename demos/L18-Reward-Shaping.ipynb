{
 "cells": [
  {
   "cell_type": "markdown",
   "metadata": {},
   "source": [
    "# Reward Shaping Demo\n",
    "The goal of this notebook is to apply concepts of reward shaping to more efficiently solve Markov Decision Processes (MDPs). We will see that:\n",
    "\n",
    "1. A well-designed potential function **accelerates** solving the MDP, leading to the agent reaching its goal faster.\n",
    "2. A poorly-designed potential function **slows** solving the MDP, leading to the agent reaching its goal slower.\n",
    "3. Reward shaping that is not a potential function may result in **not solving** the MDP, leading to convergence to the wrong value."
   ]
  },
  {
   "attachments": {
    "basic-gridworld.png": {
     "image/png": "[encoded data removed]"
    }
   },
   "cell_type": "markdown",
   "metadata": {},
   "source": [
    "## Grid world, revisited\n",
    "We will revisit the grid world, but now with more states, to make the problem harder. A few items to note:\n",
    "- An episode terminates when the agent reaches a goal state, either good (+1) or bad (-1).\n",
    "- By default, Q-learning will run for 100 episodes. How much can the agent learn in 100 episodes?\n",
    "- We should expect a random walk from the lower left corner to the top right corner to take a while, especially for large grids.\n",
    "- In comparison, with sufficient \"fake rewards\" that nudge the agent in the right direction, we should expect an agent with a shaped reward to quickly find a short path to the good goal state - regardless of how big the grid is.\n",
    "![basic-gridworld.png](attachment:basic-gridworld.png)"
   ]
  },
  {
   "cell_type": "markdown",
   "metadata": {},
   "source": [
    "## A good potential function"
   ]
  },
  {
   "cell_type": "markdown",
   "metadata": {},
   "source": [
    "To implement potential-based reward shaping, we need to first implement a potential function. We implement potential functions as subclasses of ``PotentialFunction``. For the GridWorld example, the potential function is 1 minus the normalised distance from the goal:"
   ]
  },
  {
   "cell_type": "code",
   "execution_count": 1,
   "metadata": {},
   "outputs": [],
   "source": [
    "import random\n",
    "random.seed(1392020)\n",
    "\n",
    "import os\n",
    "import sys\n",
    "directory_path = os.path.abspath(os.path.join('..'))\n",
    "if directory_path not in sys.path:\n",
    "    sys.path.append(directory_path)\n",
    "\n",
    "from rl_notes.gridworld import GridWorld\n",
    "from rl_notes.potential_function import PotentialFunction\n",
    "\n",
    "\n",
    "class GridWorldPotentialFunction(PotentialFunction):\n",
    "    def __init__(self, mdp):\n",
    "        self.mdp = mdp\n",
    "\n",
    "    def get_potential(self, state):\n",
    "        if state != GridWorld.TERMINAL:\n",
    "            goal = (self.mdp.width, self.mdp.height)\n",
    "            x = 0\n",
    "            y = 1\n",
    "            return 0.1 * (\n",
    "                1 - ((goal[x] - state[x] + goal[y] - state[y]) / (goal[x] + goal[y]))\n",
    "            )\n",
    "        else:\n",
    "            return 0.0"
   ]
  },
  {
   "cell_type": "markdown",
   "metadata": {},
   "source": [
    "Reward shaping for Q-learning is then a simple extension of the ``QLearning`` class, overriding the ``update`` method:"
   ]
  },
  {
   "cell_type": "code",
   "execution_count": 2,
   "metadata": {},
   "outputs": [],
   "source": [
    "from model_free_reinforcement_learner import ModelFreeReinforcementLearner\n",
    "from qlearning import QLearning\n",
    "\n",
    "\n",
    "class RewardShapedQLearning(QLearning):\n",
    "    def __init__(self, mdp, bandit, potential, qfunction, alpha=0.1):\n",
    "        super().__init__(mdp, bandit, qfunction=qfunction, alpha=alpha)\n",
    "        self.potential = potential\n",
    "\n",
    "    def get_delta(self, reward, q_value, state, next_state, next_action):\n",
    "        next_state_value = self.state_value(next_state, next_action)\n",
    "        state_potential = self.potential.get_potential(state)\n",
    "        next_state_potential = self.potential.get_potential(next_state)\n",
    "        potential = self.mdp.discount_factor * next_state_potential - state_potential\n",
    "        delta = reward + potential + self.mdp.discount_factor * next_state_value - q_value\n",
    "        return delta"
   ]
  },
  {
   "cell_type": "markdown",
   "metadata": {},
   "source": [
    "We can run this on a GridWorld example with more states:"
   ]
  },
  {
   "cell_type": "code",
   "execution_count": 3,
   "metadata": {
    "scrolled": false
   },
   "outputs": [
    {
     "ename": "AttributeError",
     "evalue": "'QTable' object has no attribute 'extract_policy'",
     "output_type": "error",
     "traceback": [
      "\u001b[0;31m---------------------------------------------------------------------------\u001b[0m",
      "\u001b[0;31mAttributeError\u001b[0m                            Traceback (most recent call last)",
      "Cell \u001b[0;32mIn[3], line 13\u001b[0m\n\u001b[1;32m     11\u001b[0m RewardShapedQLearning(mdp, EpsilonGreedy(), potential, qfunction)\u001b[38;5;241m.\u001b[39mexecute()\n\u001b[1;32m     12\u001b[0m \u001b[38;5;66;03m# RewardShapedQLearning(mdp, EpsilonGreedy(), potential, qfunction).execute(visualize=True)\u001b[39;00m\n\u001b[0;32m---> 13\u001b[0m policy \u001b[38;5;241m=\u001b[39m qfunction\u001b[38;5;241m.\u001b[39mextract_policy(mdp)\n\u001b[1;32m     14\u001b[0m mdp\u001b[38;5;241m.\u001b[39mvisualise_q_function(qfunction)\n\u001b[1;32m     15\u001b[0m mdp\u001b[38;5;241m.\u001b[39mvisualise_policy(policy)\n",
      "\u001b[0;31mAttributeError\u001b[0m: 'QTable' object has no attribute 'extract_policy'"
     ]
    }
   ],
   "source": [
    "from qtable import QTable\n",
    "from qlearning import QLearning\n",
    "from reward_shaped_qlearning import RewardShapedQLearning\n",
    "from gridworld_potential_function import GridWorldPotentialFunction\n",
    "from multi_armed_bandit.epsilon_greedy import EpsilonGreedy\n",
    "\n",
    "\n",
    "mdp = GridWorld(width = 10, height = 7, goals = [((9,6), 1), ((8,6), -1)])\n",
    "qfunction = QTable()\n",
    "potential = GridWorldPotentialFunction(mdp)\n",
    "RewardShapedQLearning(mdp, EpsilonGreedy(), potential, qfunction).execute()\n",
    "# RewardShapedQLearning(mdp, EpsilonGreedy(), potential, qfunction).execute(visualize=True)\n",
    "policy = qfunction.extract_policy(mdp)\n",
    "mdp.visualise_q_function(qfunction)\n",
    "mdp.visualise_policy(policy)\n",
    "reward_shaped_rewards = mdp.get_rewards()"
   ]
  },
  {
   "cell_type": "markdown",
   "metadata": {},
   "source": [
    "Now, we compare this with Q-learning without reward shaping. Notice that many updates to the Q function yield no change from the initial Q function (all zeros). Why is this?"
   ]
  },
  {
   "cell_type": "code",
   "execution_count": null,
   "metadata": {},
   "outputs": [],
   "source": [
    "# mdp = GridWorld(width = 15, height = 12, goals = [((14,11), 1), ((13,11), -1)])\n",
    "mdp = GridWorld(width = 10, height = 7, goals = [((9,6), 1), ((8,6), -1)])\n",
    "qfunction = QTable()\n",
    "QLearning(mdp, EpsilonGreedy(), qfunction).execute()\n",
    "policy = qfunction.extract_policy(mdp)\n",
    "mdp.visualise_q_function(qfunction)\n",
    "mdp.visualise_policy(policy)\n",
    "q_learning_rewards = mdp.get_rewards()"
   ]
  },
  {
   "cell_type": "markdown",
   "metadata": {},
   "source": [
    "If we plot the average episode length during training, we see that reward shaping reduces the length of the early episodes because it has knowledge nudging it towards the goal:"
   ]
  },
  {
   "cell_type": "code",
   "execution_count": null,
   "metadata": {},
   "outputs": [],
   "source": [
    "import matplotlib.pyplot as plt\n",
    "\n",
    "class Plot:\n",
    "    @staticmethod\n",
    "    def plot_episode_length(labels, data):\n",
    "        # Assuming 'data' is a list of lists with per-step rewards as floats\n",
    "        # And 'labels' is a list of the names of the strategies\n",
    "\n",
    "        # Check if 'labels' and 'data' lengths match\n",
    "        if len(labels) != len(data):\n",
    "            raise ValueError(\"Labels and data must have the same length\")\n",
    "\n",
    "        # Set the background color\n",
    "        plt.figure(facecolor='whitesmoke')\n",
    "        ax = plt.axes()\n",
    "        \n",
    "        # Setting the background color of the\n",
    "        # plot using set_facecolor() method\n",
    "        ax.set_facecolor(\"gainsboro\")\n",
    "\n",
    "        # Plotting each strategy\n",
    "        for i, sublist in enumerate(data):\n",
    "            epsiode_length = [len(subsublist) for subsublist in sublist]\n",
    "            iterations = range(len(sublist))\n",
    "            plt.plot(iterations, epsiode_length, label=labels[i])\n",
    "\n",
    "        plt.xlabel('Episode')\n",
    "        plt.ylabel('Episode length')\n",
    "        plt.title('Episode Length Over Time')\n",
    "        plt.legend()\n",
    "        \n",
    "        # Add gridlines\n",
    "        plt.grid(True, color=\"white\")\n",
    "        \n",
    "        plt.show()"
   ]
  },
  {
   "cell_type": "code",
   "execution_count": null,
   "metadata": {},
   "outputs": [],
   "source": [
    "# from tests.plot import Plot\n",
    "\n",
    "Plot.plot_episode_length(\n",
    "    [\"Tabular Q-learning\", \"Reward shaping\"],\n",
    "    [q_learning_rewards, reward_shaped_rewards],\n",
    ")"
   ]
  },
  {
   "cell_type": "markdown",
   "metadata": {},
   "source": [
    "## A bad potential function\n",
    "Consider a bad potential function, that nudges the agent in exactly the opposite direction of the 'good' potential function above."
   ]
  },
  {
   "cell_type": "code",
   "execution_count": null,
   "metadata": {},
   "outputs": [],
   "source": [
    "# Return the opposite of the good potential function\n",
    "class BadGridWorldPotentialFunction(GridWorldPotentialFunction):\n",
    "    def get_potential(self, state):\n",
    "        return -super().get_potential(state)"
   ]
  },
  {
   "cell_type": "code",
   "execution_count": null,
   "metadata": {
    "scrolled": false
   },
   "outputs": [],
   "source": [
    "mdp = GridWorld(width = 10, height = 7, goals = [((9,6), 1), ((8,6), -1)])\n",
    "qfunction = QTable()\n",
    "potential = BadGridWorldPotentialFunction(mdp)\n",
    "RewardShapedQLearning(mdp, EpsilonGreedy(), potential, qfunction).execute()\n",
    "policy = qfunction.extract_policy(mdp)\n",
    "mdp.visualise_q_function(qfunction)\n",
    "mdp.visualise_policy(policy)\n",
    "bad_reward_shaped_rewards = mdp.get_rewards()"
   ]
  },
  {
   "cell_type": "markdown",
   "metadata": {},
   "source": [
    "Examining the episode lengths, we can see that the agent learns the shortest path even more slowly than providing no information to the agent at all!"
   ]
  },
  {
   "cell_type": "code",
   "execution_count": null,
   "metadata": {},
   "outputs": [],
   "source": [
    "# from tests.plot import Plot\n",
    "\n",
    "Plot.plot_episode_length(\n",
    "    [\"Tabular Q-learning\", \"Reward shaping\", \"Bad reward shaping\"],\n",
    "    [q_learning_rewards, reward_shaped_rewards, bad_reward_shaped_rewards],\n",
    ")"
   ]
  },
  {
   "cell_type": "markdown",
   "metadata": {},
   "source": [
    "## Non-potential-based reward shaping (a.k.a., reward tuning)\n",
    "Reward tuning can be a highly effective strategy because it provides the designer with full flexibility to encode expert domain knowledge into the reward function. The following example provides a cautionary tale."
   ]
  },
  {
   "cell_type": "code",
   "execution_count": null,
   "metadata": {},
   "outputs": [],
   "source": [
    "from model_free_reinforcement_learner import ModelFreeReinforcementLearner\n",
    "from qlearning import QLearning\n",
    "\n",
    "\n",
    "class RewardTunedQLearning(QLearning):\n",
    "    def __init__(self, mdp, bandit, tuning, qfunction, alpha=0.1):\n",
    "        super().__init__(mdp, bandit, qfunction=qfunction, alpha=alpha)\n",
    "        self.tuning = tuning\n",
    "\n",
    "    def get_delta(self, reward, q_value, state, next_state, next_action):\n",
    "        next_state_value = self.state_value(next_state, next_action)\n",
    "        tuning = self.tuning.get_tuning(state, next_state, self.mdp.discount_factor)\n",
    "        delta = reward + tuning + self.mdp.discount_factor * next_state_value - q_value\n",
    "        return delta"
   ]
  },
  {
   "cell_type": "markdown",
   "metadata": {},
   "source": [
    "To see that reward tuning is strictly more general than reward shaping, we can implement the earlier potential-based reward function as reward tuning:"
   ]
  },
  {
   "cell_type": "code",
   "execution_count": null,
   "metadata": {},
   "outputs": [],
   "source": [
    "# Return the opposite of the good potential function\n",
    "class PotentialFunctionRewardTuning(GridWorldPotentialFunction):\n",
    "    def get_tuning(self, state, next_state, discount_factor):\n",
    "        return discount_factor * super().get_potential(next_state) - super().get_potential(state)"
   ]
  },
  {
   "cell_type": "code",
   "execution_count": null,
   "metadata": {
    "scrolled": false
   },
   "outputs": [],
   "source": [
    "mdp = GridWorld(width = 10, height = 7, goals = [((9,6), 1), ((8,6), -1)])\n",
    "qfunction = QTable()\n",
    "tuning = PotentialFunctionRewardTuning(mdp)\n",
    "RewardTunedQLearning(mdp, EpsilonGreedy(), tuning, qfunction).execute()\n",
    "policy = qfunction.extract_policy(mdp)\n",
    "reward_shaped_rewards = mdp.get_rewards()\n",
    "\n",
    "mdp = GridWorld(width = 10, height = 7, goals = [((9,6), 1), ((8,6), -1)])\n",
    "qfunction = QTable()\n",
    "QLearning(mdp, EpsilonGreedy(), qfunction).execute()\n",
    "policy = qfunction.extract_policy(mdp)\n",
    "q_learning_rewards = mdp.get_rewards()\n",
    "\n",
    "Plot.plot_episode_length(\n",
    "    [\"Tabular Q-learning\", \"Reward shaping\"],\n",
    "    [q_learning_rewards, reward_shaped_rewards],\n",
    ")"
   ]
  },
  {
   "cell_type": "markdown",
   "metadata": {},
   "source": [
    "However, we can also implement non-potential-based reward functions. The following (small!) reward tuning introduces a reward loop."
   ]
  },
  {
   "cell_type": "code",
   "execution_count": null,
   "metadata": {},
   "outputs": [],
   "source": [
    "# Return the opposite of the good potential function\n",
    "class NotAPotentialFunction(GridWorldPotentialFunction):\n",
    "    def get_tuning(self, state, next_state, discount_factor):\n",
    "        default = discount_factor * super().get_potential(next_state) - super().get_potential(state)\n",
    "        tune_states = [(0,0), (1,0), (2,0), (2,1), (2,2), (1,2), (0,2), (0,1)]\n",
    "        for s,s_next in zip(tune_states, tune_states[1:] + [tune_states[0]]):\n",
    "            if state == s and next_state == s_next:\n",
    "                default += 0.05\n",
    "        return default"
   ]
  },
  {
   "cell_type": "code",
   "execution_count": null,
   "metadata": {
    "scrolled": false
   },
   "outputs": [],
   "source": [
    "mdp = GridWorld(width = 10, height = 7, goals = [((9,6), 1), ((8,6), -1)])\n",
    "qfunction = QTable()\n",
    "tuning = NotAPotentialFunction(mdp)\n",
    "RewardTunedQLearning(mdp, EpsilonGreedy(), tuning, qfunction).execute()\n",
    "policy = qfunction.extract_policy(mdp)\n",
    "mdp.visualise_q_function(qfunction)\n",
    "mdp.visualise_policy(policy)\n",
    "reward_shaped_rewards = mdp.get_rewards()\n",
    "\n",
    "mdp = GridWorld(width = 10, height = 7, goals = [((9,6), 1), ((8,6), -1)])\n",
    "qfunction = QTable()\n",
    "QLearning(mdp, EpsilonGreedy(), qfunction).execute()\n",
    "policy = qfunction.extract_policy(mdp)\n",
    "q_learning_rewards = mdp.get_rewards()\n",
    "\n",
    "Plot.plot_episode_length(\n",
    "    [\"Tabular Q-learning\", \"Reward shaping\"],\n",
    "    [q_learning_rewards, reward_shaped_rewards],\n",
    ")"
   ]
  },
  {
   "cell_type": "markdown",
   "metadata": {},
   "source": [
    "## A grid too large?\n",
    "Is there a grid too large for the (unshaped) Q-learning agent to learn in 100 iterations? How does potential-based reward shaping fare?"
   ]
  },
  {
   "cell_type": "code",
   "execution_count": null,
   "metadata": {
    "scrolled": false
   },
   "outputs": [],
   "source": [
    "from qtable import QTable\n",
    "from qlearning import QLearning\n",
    "from reward_shaped_qlearning import RewardShapedQLearning\n",
    "from gridworld_potential_function import GridWorldPotentialFunction\n",
    "from multi_armed_bandit.epsilon_greedy import EpsilonGreedy\n",
    "\n",
    "\n",
    "mdp = GridWorld(width = 50, height = 50, goals = [((49,49), 1), ((48,49), -1)])\n",
    "qfunction = QTable()\n",
    "potential = GridWorldPotentialFunction(mdp)\n",
    "RewardShapedQLearning(mdp, EpsilonGreedy(), potential, qfunction).execute()\n",
    "# RewardShapedQLearning(mdp, EpsilonGreedy(), potential, qfunction).execute(visualize=True)\n",
    "policy = qfunction.extract_policy(mdp)\n",
    "reward_shaped_rewards = mdp.get_rewards()\n",
    "\n",
    "mdp = GridWorld(width = 50, height = 50, goals = [((49,49), 1), ((48,49), -1)])\n",
    "qfunction = QTable()\n",
    "QLearning(mdp, EpsilonGreedy(), qfunction).execute()\n",
    "policy = qfunction.extract_policy(mdp)\n",
    "q_learning_rewards = mdp.get_rewards()"
   ]
  },
  {
   "cell_type": "code",
   "execution_count": null,
   "metadata": {},
   "outputs": [],
   "source": [
    "# from tests.plot import Plot\n",
    "\n",
    "Plot.plot_episode_length(\n",
    "    [\"Tabular Q-learning\", \"Reward shaping\"],\n",
    "    [q_learning_rewards, reward_shaped_rewards],\n",
    ")"
   ]
  },
  {
   "cell_type": "markdown",
   "metadata": {},
   "source": [
    "<br/><br/><br/><br/><br/><br/><br/><br/><br/><br/><br/><br/><br/><br/><br/><br/><br/><br/><br/><br/><br/><br/><br/><br/><br/><br/><br/><br/><br/><br/><br/><br/><br/><br/><br/><br/>\n"
   ]
  }
 ],
 "metadata": {
  "kernelspec": {
   "display_name": "Python 3 (ipykernel)",
   "language": "python",
   "name": "python3"
  },
  "language_info": {
   "codemirror_mode": {
    "name": "ipython",
    "version": 3
   },
   "file_extension": ".py",
   "mimetype": "text/x-python",
   "name": "python",
   "nbconvert_exporter": "python",
   "pygments_lexer": "ipython3",
   "version": "3.11.3"
  }
 },
 "nbformat": 4,
 "nbformat_minor": 1
}
